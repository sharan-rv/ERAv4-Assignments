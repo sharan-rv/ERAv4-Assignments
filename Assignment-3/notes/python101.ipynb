{
  "metadata": {
    "kernelspec": {
      "name": "python",
      "display_name": "Python (Pyodide)",
      "language": "python"
    },
    "language_info": {
      "codemirror_mode": {
        "name": "python",
        "version": 3
      },
      "file_extension": ".py",
      "mimetype": "text/x-python",
      "name": "python",
      "nbconvert_exporter": "python",
      "pygments_lexer": "ipython3",
      "version": "3.8"
    },
    "deepnote_execution_queue": [],
    "deepnote_notebook_id": "600f83293f4647f3b64dcdf023889966",
    "deepnote_persisted_session": {
      "createdAt": "2023-05-13T08:31:44.936Z"
    }
  },
  "nbformat_minor": 4,
  "nbformat": 4,
  "cells": [
    {
      "cell_type": "code",
      "source": "print(\"Interpreter check OK. All good!\")",
      "metadata": {
        "cell_id": "73f718c602ec41819f4e74b41cb6ed85",
        "deepnote_cell_type": "code",
        "deepnote_to_be_reexecuted": false,
        "execution_millis": 10,
        "execution_start": 1683958396537,
        "source_hash": "74498663",
        "trusted": true
      },
      "outputs": [
        {
          "name": "stdout",
          "output_type": "stream",
          "text": "Interpreter check OK. All good!\n"
        }
      ],
      "execution_count": 1
    },
    {
      "cell_type": "code",
      "source": "# Interning\n\na = 1\nb = 1\nc = 4-3\nprint(\"Notice the addresses are same - \", id(a), id(b), id(c))",
      "metadata": {
        "trusted": true
      },
      "outputs": [
        {
          "name": "stdout",
          "output_type": "stream",
          "text": "Notice the addresses are same -  3250164 3250164 3250164\n"
        }
      ],
      "execution_count": 2
    },
    {
      "cell_type": "code",
      "source": "a = [1, \"red\", \"r\", 3+4j, [3, 4]]",
      "metadata": {
        "cell_id": "b8ae71ef3cac4d58b9441304efe3268f",
        "deepnote_cell_type": "code",
        "deepnote_to_be_reexecuted": false,
        "execution_millis": 0,
        "execution_start": 1683958445349,
        "source_hash": "205be3dc",
        "trusted": true
      },
      "outputs": [],
      "execution_count": 3
    },
    {
      "cell_type": "code",
      "source": "a = [1, \n\"red\", \n\"r\", \n3+4j, \n[3, 4]]\n\na",
      "metadata": {
        "cell_id": "5f4ecf890c084595a10fa3fe095ed3dd",
        "deepnote_cell_type": "code",
        "deepnote_to_be_reexecuted": false,
        "execution_millis": 9,
        "execution_start": 1683958468786,
        "source_hash": "496ffd59",
        "trusted": true
      },
      "outputs": [
        {
          "execution_count": 4,
          "output_type": "execute_result",
          "data": {
            "text/plain": "[1, 'red', 'r', (3+4j), [3, 4]]"
          },
          "metadata": {}
        }
      ],
      "execution_count": 4
    },
    {
      "cell_type": "code",
      "source": "a = \"This is a very long string that I am writing about the cup that \nI might get soon which might be full of amazing coffee, and it going to be hot and wonderful\"",
      "metadata": {
        "cell_id": "7c803109415a4481bf27ab6032eea529",
        "deepnote_cell_type": "code",
        "deepnote_to_be_reexecuted": false,
        "execution_millis": 3,
        "execution_start": 1683958556291,
        "source_hash": "b186c00a",
        "trusted": true
      },
      "outputs": [
        {
          "ename": "<class 'SyntaxError'>",
          "evalue": "unterminated string literal (detected at line 1) (<ipython-input-5-d0d9a5bfdfee>, line 1)",
          "traceback": [
            "\u001b[0;36m  Cell \u001b[0;32mIn[5], line 1\u001b[0;36m\u001b[0m\n\u001b[0;31m    a = \"This is a very long string that I am writing about the cup that\u001b[0m\n\u001b[0m        ^\u001b[0m\n\u001b[0;31mSyntaxError\u001b[0m\u001b[0;31m:\u001b[0m unterminated string literal (detected at line 1)\n"
          ],
          "output_type": "error"
        }
      ],
      "execution_count": 5
    },
    {
      "cell_type": "code",
      "source": "a = \"This is a very long string that I am writing about the cup that \\\nI might get soon which might be full of amazing coffee, and it going to be hot and wonderful\"\n\na",
      "metadata": {
        "cell_id": "3f8b26500aa24fbc9a2a5bfc78dfd4b8",
        "deepnote_cell_type": "code",
        "deepnote_to_be_reexecuted": false,
        "execution_millis": 15,
        "execution_start": 1683958580726,
        "source_hash": "cff8426d",
        "trusted": true
      },
      "outputs": [
        {
          "execution_count": 6,
          "output_type": "execute_result",
          "data": {
            "text/plain": "'This is a very long string that I am writing about the cup that I might get soon which might be full of amazing coffee, and it going to be hot and wonderful'"
          },
          "metadata": {}
        }
      ],
      "execution_count": 6
    },
    {
      "cell_type": "code",
      "source": "l = [1, 'rohan', 3.4, 4 + 5j] # Can have multiple datatypes\nt = (1, 'rohan', 3.4, 4 + 5j) # Read only\ns = {1, 1, 'rohan', 'rohan', 3.4, 4 + 5j}  #Notice unique items only\nd = {\"key1\": 1, 2: 'rohan'} # Key value pair combo\n\nl, t, s, d \n\n#set and dict is enclosed with {}",
      "metadata": {
        "cell_id": "08dec38cef0b4d6aa1c864903b708dd2",
        "deepnote_cell_type": "code",
        "deepnote_to_be_reexecuted": false,
        "execution_millis": 6,
        "execution_start": 1683958747277,
        "source_hash": "da583939",
        "trusted": true
      },
      "outputs": [
        {
          "execution_count": 7,
          "output_type": "execute_result",
          "data": {
            "text/plain": "([1, 'rohan', 3.4, (4+5j)],\n (1, 'rohan', 3.4, (4+5j)),\n {(4+5j), 1, 3.4, 'rohan'},\n {'key1': 1, 2: 'rohan'})"
          },
          "metadata": {}
        }
      ],
      "execution_count": 7
    },
    {
      "cell_type": "code",
      "source": "s \n#Notice the duplicates are eliminated",
      "metadata": {
        "cell_id": "c318be5c153140ef8aa294a971ca90bb",
        "deepnote_cell_type": "code",
        "deepnote_to_be_reexecuted": false,
        "execution_millis": 3,
        "execution_start": 1683958878261,
        "source_hash": "465dd177",
        "trusted": true
      },
      "outputs": [
        {
          "execution_count": 8,
          "output_type": "execute_result",
          "data": {
            "text/plain": "{(4+5j), 1, 3.4, 'rohan'}"
          },
          "metadata": {}
        }
      ],
      "execution_count": 8
    },
    {
      "cell_type": "code",
      "source": "l[0], t[0]",
      "metadata": {
        "cell_id": "55dcf6f4c9c04ee681182d80a63c1a3f",
        "deepnote_cell_type": "code",
        "deepnote_to_be_reexecuted": false,
        "execution_millis": 0,
        "execution_start": 1683958889646,
        "source_hash": "f998b999",
        "trusted": true
      },
      "outputs": [
        {
          "execution_count": 12,
          "output_type": "execute_result",
          "data": {
            "text/plain": "(10, 1)"
          },
          "metadata": {}
        }
      ],
      "execution_count": 12
    },
    {
      "cell_type": "code",
      "source": "l[0] = 10\nl",
      "metadata": {
        "cell_id": "2a0ba812de2c431ba22b6558ca37a334",
        "deepnote_cell_type": "code",
        "deepnote_to_be_reexecuted": false,
        "execution_millis": 5,
        "execution_start": 1683958908782,
        "source_hash": "4801bb6f",
        "trusted": true
      },
      "outputs": [
        {
          "execution_count": 13,
          "output_type": "execute_result",
          "data": {
            "text/plain": "[10, 'rohan', 3.4, (4+5j)]"
          },
          "metadata": {}
        }
      ],
      "execution_count": 13
    },
    {
      "cell_type": "code",
      "source": "t[0] = 10\nt\n#Error because tuples are read-only",
      "metadata": {
        "cell_id": "4aa79da39dfa4b3891693f563d35c68f",
        "deepnote_cell_type": "code",
        "deepnote_to_be_reexecuted": false,
        "execution_millis": 560,
        "execution_start": 1683958914811,
        "source_hash": "de82bcbe",
        "trusted": true
      },
      "outputs": [
        {
          "ename": "<class 'TypeError'>",
          "evalue": "'tuple' object does not support item assignment",
          "traceback": [
            "\u001b[0;31m---------------------------------------------------------------------------\u001b[0m",
            "\u001b[0;31mTypeError\u001b[0m                                 Traceback (most recent call last)",
            "Cell \u001b[0;32mIn[14], line 1\u001b[0m\n\u001b[0;32m----> 1\u001b[0m \u001b[43mt\u001b[49m\u001b[43m[\u001b[49m\u001b[38;5;241;43m0\u001b[39;49m\u001b[43m]\u001b[49m \u001b[38;5;241m=\u001b[39m \u001b[38;5;241m10\u001b[39m\n\u001b[1;32m      2\u001b[0m t\n\u001b[1;32m      3\u001b[0m \u001b[38;5;66;03m#Error because tuples are read-only\u001b[39;00m\n",
            "\u001b[0;31mTypeError\u001b[0m: 'tuple' object does not support item assignment"
          ],
          "output_type": "error"
        }
      ],
      "execution_count": 14
    },
    {
      "cell_type": "code",
      "source": "d",
      "metadata": {
        "cell_id": "3f6c651d715d48a68db6f4177d2493cf",
        "deepnote_cell_type": "code",
        "deepnote_to_be_reexecuted": false,
        "execution_millis": 6,
        "execution_start": 1683958935112,
        "source_hash": "2671bbb0",
        "trusted": true
      },
      "outputs": [
        {
          "execution_count": 15,
          "output_type": "execute_result",
          "data": {
            "text/plain": "{'key1': 1, 2: 'rohan'}"
          },
          "metadata": {}
        }
      ],
      "execution_count": 15
    },
    {
      "cell_type": "code",
      "source": "t[0], l[0], s[0]\n\n# Not subscriptable because sets eliminates duplicates are reorders it",
      "metadata": {
        "cell_id": "e27250fa28a24c8584c470df2d0e9464",
        "deepnote_cell_type": "code",
        "deepnote_to_be_reexecuted": false,
        "execution_millis": 26,
        "execution_start": 1683958979034,
        "source_hash": "9aa88f10",
        "trusted": true
      },
      "outputs": [
        {
          "ename": "<class 'TypeError'>",
          "evalue": "'set' object is not subscriptable",
          "traceback": [
            "\u001b[0;31m---------------------------------------------------------------------------\u001b[0m",
            "\u001b[0;31mTypeError\u001b[0m                                 Traceback (most recent call last)",
            "Cell \u001b[0;32mIn[17], line 1\u001b[0m\n\u001b[0;32m----> 1\u001b[0m t[\u001b[38;5;241m0\u001b[39m], l[\u001b[38;5;241m0\u001b[39m], \u001b[43ms\u001b[49m\u001b[43m[\u001b[49m\u001b[38;5;241;43m0\u001b[39;49m\u001b[43m]\u001b[49m\n\u001b[1;32m      3\u001b[0m \u001b[38;5;66;03m# Not subscriptable because sets eliminates duplicates are reorders it\u001b[39;00m\n",
            "\u001b[0;31mTypeError\u001b[0m: 'set' object is not subscriptable"
          ],
          "output_type": "error"
        }
      ],
      "execution_count": 17
    },
    {
      "cell_type": "code",
      "source": "d['key1']",
      "metadata": {
        "cell_id": "803df009bfb341e7b10ddc1f71e868d9",
        "deepnote_cell_type": "code",
        "deepnote_to_be_reexecuted": false,
        "execution_millis": 0,
        "execution_start": 1683959092921,
        "source_hash": "98cf52d6",
        "trusted": true
      },
      "outputs": [
        {
          "execution_count": 18,
          "output_type": "execute_result",
          "data": {
            "text/plain": "1"
          },
          "metadata": {}
        }
      ],
      "execution_count": 18
    },
    {
      "cell_type": "code",
      "source": "def myFunc():\n    print(\"This is our first function\")\n\nmyFunc(), myFunc",
      "metadata": {
        "cell_id": "aa4795d4a71a4890a88cba484a5daa09",
        "deepnote_cell_type": "code",
        "deepnote_to_be_reexecuted": false,
        "execution_millis": 10,
        "execution_start": 1683959200652,
        "source_hash": "3a168eaa",
        "trusted": true
      },
      "outputs": [
        {
          "name": "stdout",
          "output_type": "stream",
          "text": "This is our first function\n"
        },
        {
          "execution_count": 19,
          "output_type": "execute_result",
          "data": {
            "text/plain": "(None, <function __main__.myFunc()>)"
          },
          "metadata": {}
        }
      ],
      "execution_count": 19
    },
    {
      "cell_type": "code",
      "source": "def my_func(a, b):\n    c = a + b\n    return c\n\nmy_func(1, 4)",
      "metadata": {
        "cell_id": "8ddcaa957dd14ca5a17d4380b3ad6d32",
        "deepnote_cell_type": "code",
        "deepnote_to_be_reexecuted": false,
        "execution_millis": 2,
        "execution_start": 1683959260476,
        "source_hash": "36a74d0",
        "trusted": true
      },
      "outputs": [
        {
          "execution_count": 21,
          "output_type": "execute_result",
          "data": {
            "text/plain": "5"
          },
          "metadata": {}
        }
      ],
      "execution_count": 21
    },
    {
      "cell_type": "code",
      "source": "# Default args\n\ndef my_func(a, b = \"So What!\"):\n    print(\"This is session\", a, \".\", b)\n\nmy_func(\"3\")",
      "metadata": {
        "cell_id": "eaa8fca78f7f42fd9f25af4862b302e8",
        "deepnote_cell_type": "code",
        "deepnote_to_be_reexecuted": false,
        "execution_millis": 10,
        "execution_start": 1683959412809,
        "source_hash": "da162c41",
        "trusted": true
      },
      "outputs": [
        {
          "name": "stdout",
          "output_type": "stream",
          "text": "This is session 3 . So What!\n"
        }
      ],
      "execution_count": 24
    },
    {
      "cell_type": "code",
      "source": "#The default arg should come at the end\ndef my_func(a = \"So What!\", b):\n    print(\"This is session\", a, \".\", b)\n\nmy_func(\"3\")",
      "metadata": {
        "cell_id": "a30db6017bf64c4c89904820f777a718",
        "deepnote_cell_type": "code",
        "deepnote_to_be_reexecuted": false,
        "execution_millis": 6,
        "execution_start": 1683959433503,
        "source_hash": "9675dd3f",
        "trusted": true
      },
      "outputs": [
        {
          "ename": "<class 'SyntaxError'>",
          "evalue": "parameter without a default follows parameter with a default (<ipython-input-26-49317e0294b8>, line 2)",
          "traceback": [
            "\u001b[0;36m  Cell \u001b[0;32mIn[26], line 2\u001b[0;36m\u001b[0m\n\u001b[0;31m    def my_func(a = \"So What!\", b):\u001b[0m\n\u001b[0m                                ^\u001b[0m\n\u001b[0;31mSyntaxError\u001b[0m\u001b[0;31m:\u001b[0m parameter without a default follows parameter with a default\n"
          ],
          "output_type": "error"
        }
      ],
      "execution_count": 26
    },
    {
      "cell_type": "code",
      "source": "def func(a, b, c = 0, d):\n    print(a,b,c)\n\nfunc(1, 2, 3, 4)",
      "metadata": {
        "cell_id": "6d2fa159a051463aa70524c020e14099",
        "deepnote_cell_type": "code",
        "deepnote_to_be_reexecuted": false,
        "execution_millis": 9,
        "execution_start": 1683959525360,
        "source_hash": "b16c9d84",
        "trusted": true
      },
      "outputs": [
        {
          "ename": "<class 'SyntaxError'>",
          "evalue": "parameter without a default follows parameter with a default (<ipython-input-27-0170540fb3b5>, line 1)",
          "traceback": [
            "\u001b[0;36m  Cell \u001b[0;32mIn[27], line 1\u001b[0;36m\u001b[0m\n\u001b[0;31m    def func(a, b, c = 0, d):\u001b[0m\n\u001b[0m                          ^\u001b[0m\n\u001b[0;31mSyntaxError\u001b[0m\u001b[0;31m:\u001b[0m parameter without a default follows parameter with a default\n"
          ],
          "output_type": "error"
        }
      ],
      "execution_count": 27
    },
    {
      "cell_type": "code",
      "source": "a = 10\nb = -2\nc = 30\n\nif a > 5 and b < 0 or c > 100:\n    print(f\"Yes {a} {c + b}\")",
      "metadata": {
        "cell_id": "ff593eacde714f1cb9dac792102fe82e",
        "deepnote_cell_type": "code",
        "deepnote_to_be_reexecuted": false,
        "execution_millis": 4,
        "execution_start": 1683959726561,
        "source_hash": "317bf7ad",
        "trusted": true
      },
      "outputs": [
        {
          "name": "stdout",
          "output_type": "stream",
          "text": "Yes 10 28\n"
        }
      ],
      "execution_count": 28
    },
    {
      "cell_type": "code",
      "source": "if a > 5 \n    and b < 0 \n    or c > 100:\n    print(f\"Yes {a} {c + b}\")",
      "metadata": {
        "cell_id": "0fe4ad5de8df4c4d96830ef47c9e6e02",
        "deepnote_cell_type": "code",
        "deepnote_to_be_reexecuted": false,
        "execution_millis": 0,
        "execution_start": 1683959750472,
        "source_hash": "4833be14",
        "trusted": true
      },
      "outputs": [
        {
          "ename": "<class 'SyntaxError'>",
          "evalue": "expected ':' (<ipython-input-29-1ab5193a71cc>, line 1)",
          "traceback": [
            "\u001b[0;36m  Cell \u001b[0;32mIn[29], line 1\u001b[0;36m\u001b[0m\n\u001b[0;31m    if a > 5\u001b[0m\n\u001b[0m             ^\u001b[0m\n\u001b[0;31mSyntaxError\u001b[0m\u001b[0;31m:\u001b[0m expected ':'\n"
          ],
          "output_type": "error"
        }
      ],
      "execution_count": 29
    },
    {
      "cell_type": "code",
      "source": "if a > 5 \\\n    and b < 0 \\\n    or c > 100:\n    print(f\"Yes {a} {c + b}\")",
      "metadata": {
        "cell_id": "41933518659a4977aa53d93a22d3ee89",
        "deepnote_cell_type": "code",
        "deepnote_to_be_reexecuted": false,
        "execution_millis": 6,
        "execution_start": 1683959759864,
        "source_hash": "53e81aee",
        "trusted": true
      },
      "outputs": [
        {
          "name": "stdout",
          "output_type": "stream",
          "text": "Yes 10 28\n"
        }
      ],
      "execution_count": 30
    },
    {
      "cell_type": "code",
      "source": "\"This is one of the lines taken from Shashi Tharoors interview. \\\nHe said, that one the democracy is hindered for its progress by the \\\nrightist movements and their jabs at the structure of the secularism,\\\nthen it becomes very difficult to beat them at the democratic\\\nelectctions becuase now people are infused with the ideas that have \\\nno relation to their earnings or finances, but the whims and fan\\\ncies of what they believe to be true...\"",
      "metadata": {
        "trusted": true
      },
      "outputs": [
        {
          "execution_count": 34,
          "output_type": "execute_result",
          "data": {
            "text/plain": "'This is one of the lines taken from Shashi Tharoors interview. He said, that one the democracy is hindered for its progress by the rightist movements and their jabs at the structure of the secularism,then it becomes very difficult to beat them at the democraticelectctions becuase now people are infused with the ideas that have no relation to their earnings or finances, but the whims and fancies of what they believe to be true...'"
          },
          "metadata": {}
        }
      ],
      "execution_count": 34
    },
    {
      "cell_type": "code",
      "source": "a = \"This is one of the lines taken from Shashi Tharoors interview. \\\nHe said, that one the democracy is hindered for its progress by the \\\nrightist movements and their jabs at the structure of the secularism,\\\nthen it becomes very difficult to beat them at the democratic\\\nelectctions becuase now people are infused with the ideas that have \\\nno relation to their earnings or finances, but the whims and fan\\\ncies of what they believe to be true...\"",
      "metadata": {
        "cell_id": "4a0530da97bc4cf78db01c3443d73a75",
        "deepnote_cell_type": "code",
        "deepnote_to_be_reexecuted": false,
        "execution_millis": 9,
        "execution_start": 1683960038713,
        "source_hash": "de96377c",
        "trusted": true
      },
      "outputs": [],
      "execution_count": 31
    },
    {
      "cell_type": "code",
      "source": "print(a)",
      "metadata": {
        "cell_id": "0f895c77276249ab815b004a14c2ec38",
        "deepnote_cell_type": "code",
        "deepnote_to_be_reexecuted": false,
        "execution_millis": 4,
        "execution_start": 1683960041783,
        "source_hash": "3791362",
        "trusted": true
      },
      "outputs": [
        {
          "name": "stdout",
          "output_type": "stream",
          "text": "This is one of the lines taken from Shashi Tharoors interview. He said, that one the democracy is hindered for its progress by the rightist movements and their jabs at the structure of the secularism,then it becomes very difficult to beat them at the democraticelectctions becuase now people are infused with the ideas that have no relation to their earnings or finances, but the whims and fancies of what they believe to be true...\n"
        }
      ],
      "execution_count": 32
    },
    {
      "cell_type": "code",
      "source": "\"\"\"This is one of the lines taken from Shashi Tharoors interview. \nHe said, that one the democracy is hindered for its progress by the \nrightist movements and their jabs at the structure of the secularism, \nthen it becomes very difficult to beat them at the democratic \nelectctions becuase now people are infused with the ideas that have no \nrelation to their earnings or finances, but the whims and fancies of \nwhat they believe to be true...\"\"\"",
      "metadata": {
        "cell_id": "5ff564a31d8e489993257e7ab87a6c18",
        "deepnote_cell_type": "code",
        "deepnote_to_be_reexecuted": false,
        "execution_millis": 7,
        "execution_start": 1683959881082,
        "source_hash": "68a94160",
        "trusted": true
      },
      "outputs": [
        {
          "execution_count": 33,
          "output_type": "execute_result",
          "data": {
            "text/plain": "'This is one of the lines taken from Shashi Tharoors interview. \\nHe said, that one the democracy is hindered for its progress by the \\nrightist movements and their jabs at the structure of the secularism, \\nthen it becomes very difficult to beat them at the democratic \\nelectctions becuase now people are infused with the ideas that have no \\nrelation to their earnings or finances, but the whims and fancies of \\nwhat they believe to be true...'"
          },
          "metadata": {}
        }
      ],
      "execution_count": 33
    },
    {
      "cell_type": "code",
      "source": "a = \"\"\"This is one of the lines taken from Shashi Tharoors interview. \nHe said, that one the democracy is hindered for its progress by the \nrightist movements and their jabs at the structure of the secularism, \nthen it becomes very difficult to beat them at the democratic \nelectctions becuase now people are infused with the ideas that have no \nrelation to their earnings or finances, but the whims and fancies of \nwhat they believe to be true...\"\"\"",
      "metadata": {
        "cell_id": "1e979271aba3459687cd89219b6009f3",
        "deepnote_cell_type": "code",
        "deepnote_to_be_reexecuted": false,
        "execution_millis": 1,
        "execution_start": 1683960006770,
        "source_hash": "a7d9f9e2"
      },
      "outputs": [],
      "execution_count": 62
    },
    {
      "cell_type": "code",
      "source": "print(a)",
      "metadata": {
        "cell_id": "7bf04f8a490841a49cb041aca942e768",
        "deepnote_cell_type": "code",
        "deepnote_to_be_reexecuted": false,
        "execution_millis": 4,
        "execution_start": 1683960017359,
        "source_hash": "3791362"
      },
      "outputs": [
        {
          "name": "stdout",
          "output_type": "stream",
          "text": "This is one of the lines taken from Shashi Tharoors interview. \n,He said, that one the democracy is hindered for its progress by the \n,rightist movements and their jabs at the structure of the secularism, \n,then it becomes very difficult to beat them at the democratic \n,electctions becuase now people are infused with the ideas that have no \n,relation to their earnings or finances, but the whims and fancies of \n,what they believe to be true...\n"
        }
      ],
      "execution_count": 64
    },
    {
      "cell_type": "markdown",
      "source": "# Conditionals",
      "metadata": {
        "cell_id": "76526f16ca6a4c049361b3b6a9b9276f",
        "deepnote_cell_type": "text-cell-h1",
        "formattedRanges": []
      }
    },
    {
      "cell_type": "code",
      "source": "# if, else, elif, ternary\n\na = 4\nif a < 3:\n    print(\"a<3\")\n    \nelse:\n    print(\"a>3\")",
      "metadata": {
        "cell_id": "35ca0f154f964d12a891e56f79264331",
        "deepnote_cell_type": "code",
        "deepnote_to_be_reexecuted": false,
        "execution_millis": 11,
        "execution_start": 1683960100298,
        "source_hash": "cbcffad"
      },
      "outputs": [
        {
          "name": "stdout",
          "output_type": "stream",
          "text": "a>3\n"
        }
      ],
      "execution_count": 67
    },
    {
      "cell_type": "code",
      "source": "a = 15\n\nif a < 5:\n    print(\"I am going to go with you\")\nelse:\n    if a > 10:\n        print(\"I may go with you is a am in mood\")\n    else:\n        print(\"I will just watch a movie\")",
      "metadata": {
        "cell_id": "df1d32756fdc442fa75ea8023ade65b7",
        "deepnote_cell_type": "code",
        "deepnote_to_be_reexecuted": false,
        "execution_millis": 8,
        "execution_start": 1683960163032,
        "source_hash": "a943b082"
      },
      "outputs": [
        {
          "name": "stdout",
          "output_type": "stream",
          "text": "I may go with you is a am in mood\n"
        }
      ],
      "execution_count": 68
    },
    {
      "cell_type": "code",
      "source": "a = 15\n\nif a < 5:\n    print('a < 5')\nelif a < 10:\n    print('5 <= a < 10')\nelse:\n    print('a >=10')",
      "metadata": {
        "cell_id": "ae190b7930ea4c918e38f1765c035edb",
        "deepnote_cell_type": "code",
        "deepnote_to_be_reexecuted": false,
        "execution_millis": 6,
        "execution_start": 1683960189477,
        "source_hash": "8dbd6f7a"
      },
      "outputs": [
        {
          "name": "stdout",
          "output_type": "stream",
          "text": "a >=10\n"
        }
      ],
      "execution_count": 69
    },
    {
      "cell_type": "code",
      "source": "a = 15\n\nif a < 5:\n    print('a < 5')\nelif a < 10:\n    print('5 <= a < 10')\n",
      "metadata": {
        "cell_id": "e523d84cef4840518b7cc471ecc82be1",
        "deepnote_cell_type": "code",
        "deepnote_to_be_reexecuted": false,
        "execution_millis": 4,
        "execution_start": 1683960221400,
        "source_hash": "3ed7c2df"
      },
      "outputs": [],
      "execution_count": 70
    },
    {
      "cell_type": "code",
      "source": "# DO X if (this condition is met) else DO Y\n\na = 5\n\nresult = 'a is less than 5' if a < 10 else \"a is not less than 5\"\nresult",
      "metadata": {
        "cell_id": "11056b9fd3814de58ad5850330d8418e",
        "deepnote_cell_type": "code",
        "deepnote_to_be_reexecuted": false,
        "execution_millis": 4,
        "execution_start": 1683960278510,
        "source_hash": "bdc9b92c"
      },
      "outputs": [
        {
          "data": {
            "text/plain": [
              "'a is less than 5'"
            ]
          },
          "execution_count": 72,
          "metadata": {},
          "output_type": "execute_result"
        }
      ],
      "execution_count": 72
    },
    {
      "cell_type": "code",
      "source": "def say_hello():\n    print(\"Hello\")\ndef say_goodbye():\n    print(\"good bye!\")\n\ntime = 6\n\nsay_hello() if time < 5 else say_goodbye()",
      "metadata": {
        "cell_id": "f4aa8ae4e33b4d8ab658409103460573",
        "deepnote_cell_type": "code",
        "deepnote_to_be_reexecuted": false,
        "execution_millis": 10,
        "execution_start": 1683960327509,
        "source_hash": "23f0494b"
      },
      "outputs": [
        {
          "name": "stdout",
          "output_type": "stream",
          "text": "good bye!\n"
        }
      ],
      "execution_count": 73
    },
    {
      "cell_type": "code",
      "source": "s = [1, 2, 3]\n\nlen(s)",
      "metadata": {
        "cell_id": "ec1866c2bc7a4652aa82d34a03441fe7",
        "deepnote_cell_type": "code",
        "deepnote_to_be_reexecuted": false,
        "execution_millis": 8,
        "execution_start": 1683960353027,
        "source_hash": "1e331ec0"
      },
      "outputs": [
        {
          "data": {
            "text/plain": [
              "3"
            ]
          },
          "execution_count": 74,
          "metadata": {},
          "output_type": "execute_result"
        }
      ],
      "execution_count": 74
    },
    {
      "cell_type": "code",
      "source": "say_hello",
      "metadata": {
        "cell_id": "79d1feac8fa4439e92b5fb3d43f137f6",
        "deepnote_cell_type": "code",
        "deepnote_to_be_reexecuted": false,
        "execution_millis": 6,
        "execution_start": 1683960378851,
        "source_hash": "f2b986b4"
      },
      "outputs": [
        {
          "data": {
            "text/plain": [
              "<function __main__.say_hello()>"
            ]
          },
          "execution_count": 75,
          "metadata": {},
          "output_type": "execute_result"
        }
      ],
      "execution_count": 75
    },
    {
      "cell_type": "code",
      "source": "len, print",
      "metadata": {
        "cell_id": "4fe8ed60d537491089443be0d0dda119",
        "deepnote_cell_type": "code",
        "deepnote_to_be_reexecuted": false,
        "execution_millis": 27,
        "execution_start": 1683960394755,
        "source_hash": "88fdb011"
      },
      "outputs": [
        {
          "data": {
            "text/plain": [
              "(<function len(obj, /)>, <function print>)"
            ]
          },
          "execution_count": 76,
          "metadata": {},
          "output_type": "execute_result"
        }
      ],
      "execution_count": 76
    },
    {
      "cell_type": "code",
      "source": "sqrt(4)",
      "metadata": {
        "cell_id": "bd289b74f6c949be94235c341a643c32",
        "deepnote_cell_type": "code",
        "deepnote_to_be_reexecuted": false,
        "execution_millis": 1,
        "execution_start": 1683960413422,
        "source_hash": "d823bd59"
      },
      "outputs": [
        {
          "ename": "NameError",
          "evalue": "name 'sqrt' is not defined",
          "output_type": "error",
          "traceback": [
            "\u001b[0;31m---------------------------------------------------------------------------\u001b[0m",
            "\u001b[0;31mNameError\u001b[0m                                 Traceback (most recent call last)",
            "Cell \u001b[0;32mIn [77], line 1\u001b[0m\n\u001b[0;32m----> 1\u001b[0m \u001b[43msqrt\u001b[49m(\u001b[38;5;241m4\u001b[39m)\n",
            "\u001b[0;31mNameError\u001b[0m: name 'sqrt' is not defined"
          ]
        }
      ],
      "execution_count": 77
    },
    {
      "cell_type": "code",
      "source": "from math import sqrt\n\nsqrt(4)",
      "metadata": {
        "cell_id": "165c97badd314d67a85a718c7fc32f33",
        "deepnote_cell_type": "code",
        "deepnote_to_be_reexecuted": false,
        "execution_millis": 1,
        "execution_start": 1683960451221,
        "source_hash": "887ad7a6"
      },
      "outputs": [
        {
          "data": {
            "text/plain": [
              "2.0"
            ]
          },
          "execution_count": 78,
          "metadata": {},
          "output_type": "execute_result"
        }
      ],
      "execution_count": 78
    },
    {
      "cell_type": "code",
      "source": "import math",
      "metadata": {
        "cell_id": "7ece8aaa5e83451d9dc1a697525357a7",
        "deepnote_cell_type": "code",
        "deepnote_to_be_reexecuted": false,
        "execution_millis": 13,
        "execution_start": 1683960497441,
        "source_hash": "ff143fe"
      },
      "outputs": [],
      "execution_count": 79
    },
    {
      "cell_type": "code",
      "source": "math.exp(3)",
      "metadata": {
        "cell_id": "493c0f34519745d4be6044c1cd778e09",
        "deepnote_cell_type": "code",
        "deepnote_to_be_reexecuted": false,
        "execution_millis": 13,
        "execution_start": 1683960504841,
        "source_hash": "c0f714fe"
      },
      "outputs": [
        {
          "data": {
            "text/plain": [
              "20.085536923187668"
            ]
          },
          "execution_count": 80,
          "metadata": {},
          "output_type": "execute_result"
        }
      ],
      "execution_count": 80
    },
    {
      "cell_type": "code",
      "source": "dir()",
      "metadata": {
        "cell_id": "50377767e0054b22a5f2753ae840ccce",
        "deepnote_cell_type": "code",
        "deepnote_to_be_reexecuted": false,
        "execution_millis": 12,
        "execution_start": 1683960518137,
        "source_hash": "8a2f0210"
      },
      "outputs": [
        {
          "data": {
            "text/plain": [
              "['DEEPNOTE_SQL_METADATA_MIME_TYPE',\n",
              " 'DeepnoteChart',\n",
              " 'IPython',\n",
              " 'In',\n",
              " 'Out',\n",
              " '_',\n",
              " '_11',\n",
              " '_12',\n",
              " '_13',\n",
              " '_14',\n",
              " '_16',\n",
              " '_18',\n",
              " '_19',\n",
              " '_23',\n",
              " '_24',\n",
              " '_26',\n",
              " '_27',\n",
              " '_28',\n",
              " '_29',\n",
              " '_54',\n",
              " '_55',\n",
              " '_56',\n",
              " '_58',\n",
              " '_6',\n",
              " '_61',\n",
              " '_63',\n",
              " '_72',\n",
              " '_74',\n",
              " '_75',\n",
              " '_76',\n",
              " '_78',\n",
              " '_80',\n",
              " '__',\n",
              " '__DEEPNOTE_ENVS_SET_BY_INTEGRATIONS',\n",
              " '___',\n",
              " '__builtin__',\n",
              " '__builtins__',\n",
              " '__doc__',\n",
              " '__loader__',\n",
              " '__name__',\n",
              " '__package__',\n",
              " '__spec__',\n",
              " '_deepnote_add_formatters',\n",
              " '_deepnote_browse_df',\n",
              " '_deepnote_build_params_for_bigquery_oauth',\n",
              " '_deepnote_contextlib',\n",
              " '_deepnote_convert_objects_to_string',\n",
              " '_deepnote_convert_timedelta_columns_to_seconds',\n",
              " '_deepnote_create_sql_ssh_uri',\n",
              " '_deepnote_create_ssh_tunnel',\n",
              " '_deepnote_display_sql_output_metadata',\n",
              " '_deepnote_escape_jinja_template',\n",
              " '_deepnote_execute_post_start_hooks',\n",
              " '_deepnote_execute_sql',\n",
              " '_deepnote_execute_sql_on_engine',\n",
              " '_deepnote_execute_sql_with_caching',\n",
              " '_deepnote_execute_sql_with_connection_json',\n",
              " '_deepnote_export_df',\n",
              " '_deepnote_generate_cache_key',\n",
              " '_deepnote_get_sql_query_cache',\n",
              " '_deepnote_get_used_fields_from_vega_lite_spec',\n",
              " '_deepnote_get_var_list',\n",
              " '_deepnote_persist_notebook_session',\n",
              " '_deepnote_prepare_connection_for_duckdb',\n",
              " '_deepnote_query_data_source',\n",
              " '_deepnote_remove_system_modules_from_globals',\n",
              " '_deepnote_render_template',\n",
              " '_deepnote_request_cache_info_from_webapp',\n",
              " '_deepnote_restore_notebook_session',\n",
              " '_deepnote_sanitize_dataframe',\n",
              " '_deepnote_sanitize_dataframe_for_parquet',\n",
              " '_deepnote_set_integration_env',\n",
              " '_deepnote_upload_sql_query_cache',\n",
              " '_deepnote_verify_chart',\n",
              " '_dh',\n",
              " '_i',\n",
              " '_i1',\n",
              " '_i10',\n",
              " '_i11',\n",
              " '_i12',\n",
              " '_i13',\n",
              " '_i14',\n",
              " '_i15',\n",
              " '_i16',\n",
              " '_i17',\n",
              " '_i18',\n",
              " '_i19',\n",
              " '_i2',\n",
              " '_i20',\n",
              " '_i21',\n",
              " '_i22',\n",
              " '_i23',\n",
              " '_i24',\n",
              " '_i25',\n",
              " '_i26',\n",
              " '_i27',\n",
              " '_i28',\n",
              " '_i29',\n",
              " '_i3',\n",
              " '_i30',\n",
              " '_i31',\n",
              " '_i32',\n",
              " '_i33',\n",
              " '_i34',\n",
              " '_i35',\n",
              " '_i36',\n",
              " '_i37',\n",
              " '_i38',\n",
              " '_i39',\n",
              " '_i4',\n",
              " '_i40',\n",
              " '_i41',\n",
              " '_i42',\n",
              " '_i43',\n",
              " '_i44',\n",
              " '_i45',\n",
              " '_i46',\n",
              " '_i47',\n",
              " '_i48',\n",
              " '_i49',\n",
              " '_i5',\n",
              " '_i50',\n",
              " '_i51',\n",
              " '_i52',\n",
              " '_i53',\n",
              " '_i54',\n",
              " '_i55',\n",
              " '_i56',\n",
              " '_i57',\n",
              " '_i58',\n",
              " '_i59',\n",
              " '_i6',\n",
              " '_i60',\n",
              " '_i61',\n",
              " '_i62',\n",
              " '_i63',\n",
              " '_i64',\n",
              " '_i65',\n",
              " '_i66',\n",
              " '_i67',\n",
              " '_i68',\n",
              " '_i69',\n",
              " '_i7',\n",
              " '_i70',\n",
              " '_i71',\n",
              " '_i72',\n",
              " '_i73',\n",
              " '_i74',\n",
              " '_i75',\n",
              " '_i76',\n",
              " '_i77',\n",
              " '_i78',\n",
              " '_i79',\n",
              " '_i8',\n",
              " '_i80',\n",
              " '_i81',\n",
              " '_i9',\n",
              " '_ih',\n",
              " '_ii',\n",
              " '_iii',\n",
              " '_oh',\n",
              " '_set_notebook_path',\n",
              " 'a',\n",
              " 'b',\n",
              " 'c',\n",
              " 'd',\n",
              " 'exit',\n",
              " 'func',\n",
              " 'get_absolute_webapp_url',\n",
              " 'get_ipython',\n",
              " 'l',\n",
              " 'math',\n",
              " 'myFunc',\n",
              " 'my_func',\n",
              " 'output_display_data',\n",
              " 'page_printer',\n",
              " 'psycopg2',\n",
              " 'quit',\n",
              " 'result',\n",
              " 's',\n",
              " 'say_goodbye',\n",
              " 'say_hello',\n",
              " 'setNotebookPath',\n",
              " 'sqrt',\n",
              " 't',\n",
              " 'time',\n",
              " 'warnings']"
            ]
          },
          "execution_count": 81,
          "metadata": {},
          "output_type": "execute_result"
        }
      ],
      "execution_count": 81
    },
    {
      "cell_type": "code",
      "source": "math.sin(45)",
      "metadata": {
        "cell_id": "5b525481b6b444478c75b6498d737d68",
        "deepnote_cell_type": "code",
        "deepnote_to_be_reexecuted": false,
        "execution_millis": 5,
        "execution_start": 1683960565126,
        "source_hash": "537ee831"
      },
      "outputs": [
        {
          "data": {
            "text/plain": [
              "0.8509035245341184"
            ]
          },
          "execution_count": 82,
          "metadata": {},
          "output_type": "execute_result"
        }
      ],
      "execution_count": 82
    },
    {
      "cell_type": "code",
      "source": "dir()",
      "metadata": {
        "cell_id": "197c12a3366f4297b7a1a2d62bdbdb68",
        "deepnote_cell_type": "code",
        "deepnote_to_be_reexecuted": false,
        "execution_millis": 3,
        "execution_start": 1683960569131,
        "source_hash": "8a2f0210"
      },
      "outputs": [
        {
          "data": {
            "text/plain": [
              "['DEEPNOTE_SQL_METADATA_MIME_TYPE',\n",
              " 'DeepnoteChart',\n",
              " 'IPython',\n",
              " 'In',\n",
              " 'Out',\n",
              " '_',\n",
              " '_11',\n",
              " '_12',\n",
              " '_13',\n",
              " '_14',\n",
              " '_16',\n",
              " '_18',\n",
              " '_19',\n",
              " '_23',\n",
              " '_24',\n",
              " '_26',\n",
              " '_27',\n",
              " '_28',\n",
              " '_29',\n",
              " '_54',\n",
              " '_55',\n",
              " '_56',\n",
              " '_58',\n",
              " '_6',\n",
              " '_61',\n",
              " '_63',\n",
              " '_72',\n",
              " '_74',\n",
              " '_75',\n",
              " '_76',\n",
              " '_78',\n",
              " '_80',\n",
              " '_81',\n",
              " '_82',\n",
              " '__',\n",
              " '__DEEPNOTE_ENVS_SET_BY_INTEGRATIONS',\n",
              " '___',\n",
              " '__builtin__',\n",
              " '__builtins__',\n",
              " '__doc__',\n",
              " '__loader__',\n",
              " '__name__',\n",
              " '__package__',\n",
              " '__spec__',\n",
              " '_deepnote_add_formatters',\n",
              " '_deepnote_browse_df',\n",
              " '_deepnote_build_params_for_bigquery_oauth',\n",
              " '_deepnote_contextlib',\n",
              " '_deepnote_convert_objects_to_string',\n",
              " '_deepnote_convert_timedelta_columns_to_seconds',\n",
              " '_deepnote_create_sql_ssh_uri',\n",
              " '_deepnote_create_ssh_tunnel',\n",
              " '_deepnote_display_sql_output_metadata',\n",
              " '_deepnote_escape_jinja_template',\n",
              " '_deepnote_execute_post_start_hooks',\n",
              " '_deepnote_execute_sql',\n",
              " '_deepnote_execute_sql_on_engine',\n",
              " '_deepnote_execute_sql_with_caching',\n",
              " '_deepnote_execute_sql_with_connection_json',\n",
              " '_deepnote_export_df',\n",
              " '_deepnote_generate_cache_key',\n",
              " '_deepnote_get_sql_query_cache',\n",
              " '_deepnote_get_used_fields_from_vega_lite_spec',\n",
              " '_deepnote_get_var_list',\n",
              " '_deepnote_persist_notebook_session',\n",
              " '_deepnote_prepare_connection_for_duckdb',\n",
              " '_deepnote_query_data_source',\n",
              " '_deepnote_remove_system_modules_from_globals',\n",
              " '_deepnote_render_template',\n",
              " '_deepnote_request_cache_info_from_webapp',\n",
              " '_deepnote_restore_notebook_session',\n",
              " '_deepnote_sanitize_dataframe',\n",
              " '_deepnote_sanitize_dataframe_for_parquet',\n",
              " '_deepnote_set_integration_env',\n",
              " '_deepnote_upload_sql_query_cache',\n",
              " '_deepnote_verify_chart',\n",
              " '_dh',\n",
              " '_i',\n",
              " '_i1',\n",
              " '_i10',\n",
              " '_i11',\n",
              " '_i12',\n",
              " '_i13',\n",
              " '_i14',\n",
              " '_i15',\n",
              " '_i16',\n",
              " '_i17',\n",
              " '_i18',\n",
              " '_i19',\n",
              " '_i2',\n",
              " '_i20',\n",
              " '_i21',\n",
              " '_i22',\n",
              " '_i23',\n",
              " '_i24',\n",
              " '_i25',\n",
              " '_i26',\n",
              " '_i27',\n",
              " '_i28',\n",
              " '_i29',\n",
              " '_i3',\n",
              " '_i30',\n",
              " '_i31',\n",
              " '_i32',\n",
              " '_i33',\n",
              " '_i34',\n",
              " '_i35',\n",
              " '_i36',\n",
              " '_i37',\n",
              " '_i38',\n",
              " '_i39',\n",
              " '_i4',\n",
              " '_i40',\n",
              " '_i41',\n",
              " '_i42',\n",
              " '_i43',\n",
              " '_i44',\n",
              " '_i45',\n",
              " '_i46',\n",
              " '_i47',\n",
              " '_i48',\n",
              " '_i49',\n",
              " '_i5',\n",
              " '_i50',\n",
              " '_i51',\n",
              " '_i52',\n",
              " '_i53',\n",
              " '_i54',\n",
              " '_i55',\n",
              " '_i56',\n",
              " '_i57',\n",
              " '_i58',\n",
              " '_i59',\n",
              " '_i6',\n",
              " '_i60',\n",
              " '_i61',\n",
              " '_i62',\n",
              " '_i63',\n",
              " '_i64',\n",
              " '_i65',\n",
              " '_i66',\n",
              " '_i67',\n",
              " '_i68',\n",
              " '_i69',\n",
              " '_i7',\n",
              " '_i70',\n",
              " '_i71',\n",
              " '_i72',\n",
              " '_i73',\n",
              " '_i74',\n",
              " '_i75',\n",
              " '_i76',\n",
              " '_i77',\n",
              " '_i78',\n",
              " '_i79',\n",
              " '_i8',\n",
              " '_i80',\n",
              " '_i81',\n",
              " '_i82',\n",
              " '_i83',\n",
              " '_i9',\n",
              " '_ih',\n",
              " '_ii',\n",
              " '_iii',\n",
              " '_oh',\n",
              " '_set_notebook_path',\n",
              " 'a',\n",
              " 'b',\n",
              " 'c',\n",
              " 'd',\n",
              " 'exit',\n",
              " 'func',\n",
              " 'get_absolute_webapp_url',\n",
              " 'get_ipython',\n",
              " 'l',\n",
              " 'math',\n",
              " 'myFunc',\n",
              " 'my_func',\n",
              " 'output_display_data',\n",
              " 'page_printer',\n",
              " 'psycopg2',\n",
              " 'quit',\n",
              " 'result',\n",
              " 's',\n",
              " 'say_goodbye',\n",
              " 'say_hello',\n",
              " 'setNotebookPath',\n",
              " 'sqrt',\n",
              " 't',\n",
              " 'time',\n",
              " 'warnings']"
            ]
          },
          "execution_count": 83,
          "metadata": {},
          "output_type": "execute_result"
        }
      ],
      "execution_count": 83
    },
    {
      "cell_type": "code",
      "source": "# Mentioning these data types are kinda useless.\n# They're just for readability and python doesn't care about it\n\ndef func_3(a: int, b: int):\n    # 4 * \"rohan\"\n    return a * b \n\nfunc_3(4, \"rohan\")",
      "metadata": {
        "cell_id": "4a9d6334bb5e46e895a81edf73591589",
        "deepnote_cell_type": "code",
        "deepnote_to_be_reexecuted": false,
        "execution_millis": 4,
        "execution_start": 1683960704945,
        "source_hash": "a4cf9fb7",
        "trusted": true
      },
      "outputs": [
        {
          "execution_count": 51,
          "output_type": "execute_result",
          "data": {
            "text/plain": "'rohanrohanrohanrohan'"
          },
          "metadata": {}
        }
      ],
      "execution_count": 51
    },
    {
      "cell_type": "code",
      "source": "# Pass by reference because lists are mutable. \n# By default, the list is passed by reference.\n\na = [1, 2]\n\ndef func(aa):\n    aa[0] = 0\n\nfunc(a)\na",
      "metadata": {
        "cell_id": "0567a99d22eb438ca7349f9cbd877232",
        "deepnote_cell_type": "code",
        "deepnote_to_be_reexecuted": false,
        "execution_millis": 0,
        "execution_start": 1683961365544,
        "source_hash": "27de9f",
        "trusted": true
      },
      "outputs": [
        {
          "execution_count": 54,
          "output_type": "execute_result",
          "data": {
            "text/plain": "[0, 2]"
          },
          "metadata": {}
        }
      ],
      "execution_count": 54
    },
    {
      "cell_type": "code",
      "source": "id(123)",
      "metadata": {
        "cell_id": "f8f47ad70c9c42608bdc463bcfa6c2e4",
        "deepnote_cell_type": "code",
        "deepnote_to_be_reexecuted": false,
        "execution_millis": 4,
        "execution_start": 1683961420085,
        "source_hash": "e2e6e122",
        "trusted": true
      },
      "outputs": [
        {
          "execution_count": 55,
          "output_type": "execute_result",
          "data": {
            "text/plain": "3252116"
          },
          "metadata": {}
        }
      ],
      "execution_count": 55
    },
    {
      "cell_type": "code",
      "source": "123 =234",
      "metadata": {
        "cell_id": "d456ee51db4644a3bb4ec3b438792744",
        "deepnote_cell_type": "code",
        "deepnote_to_be_reexecuted": false,
        "execution_millis": 3,
        "execution_start": 1683961426691,
        "source_hash": "73f86644",
        "trusted": true
      },
      "outputs": [
        {
          "ename": "<class 'SyntaxError'>",
          "evalue": "cannot assign to literal here. Maybe you meant '==' instead of '='? (<ipython-input-57-8688f7d6da69>, line 1)",
          "traceback": [
            "\u001b[0;36m  Cell \u001b[0;32mIn[57], line 1\u001b[0;36m\u001b[0m\n\u001b[0;31m    123 =234\u001b[0m\n\u001b[0m    ^\u001b[0m\n\u001b[0;31mSyntaxError\u001b[0m\u001b[0;31m:\u001b[0m cannot assign to literal here. Maybe you meant '==' instead of '='?\n"
          ],
          "output_type": "error"
        }
      ],
      "execution_count": 57
    },
    {
      "cell_type": "code",
      "source": "a = [1, 2]\nprint(id(a))\n\ndef func(aa):\n    aa[0] = 0\nfunc(a)\n\na, print(id(a))",
      "metadata": {
        "cell_id": "e001c74be3fe467389c1dd1831e2cc4f",
        "deepnote_cell_type": "code",
        "deepnote_to_be_reexecuted": false,
        "execution_millis": 9,
        "execution_start": 1683961459819,
        "source_hash": "cf98d4f9",
        "trusted": true
      },
      "outputs": [
        {
          "name": "stdout",
          "output_type": "stream",
          "text": "43901328\n43901328\n"
        },
        {
          "execution_count": 67,
          "output_type": "execute_result",
          "data": {
            "text/plain": "([0, 2], None)"
          },
          "metadata": {}
        }
      ],
      "execution_count": 67
    },
    {
      "cell_type": "code",
      "source": "id(a), id(a[0]), id(a[1])",
      "metadata": {
        "cell_id": "3126b46a21484d1e8892e047b0adf89e",
        "deepnote_cell_type": "code",
        "deepnote_to_be_reexecuted": false,
        "execution_millis": 6,
        "execution_start": 1683961486067,
        "source_hash": "420f6bbc",
        "trusted": true
      },
      "outputs": [
        {
          "execution_count": 68,
          "output_type": "execute_result",
          "data": {
            "text/plain": "(43901328, 3250148, 3250180)"
          },
          "metadata": {}
        }
      ],
      "execution_count": 68
    },
    {
      "cell_type": "code",
      "source": "a[0] = 12\nid(a), id(a[0]), id(a[1])",
      "metadata": {
        "cell_id": "d4984866f7304aeabc75ab7d5c227e59",
        "deepnote_cell_type": "code",
        "deepnote_to_be_reexecuted": false,
        "execution_millis": 1,
        "execution_start": 1683961520026,
        "source_hash": "4dea1db4",
        "trusted": true
      },
      "outputs": [
        {
          "execution_count": 63,
          "output_type": "execute_result",
          "data": {
            "text/plain": "(32214728, 3250340, 3250180)"
          },
          "metadata": {}
        }
      ],
      "execution_count": 63
    },
    {
      "cell_type": "code",
      "source": "a = [0, 1]\nprint(id(0))\nprint(id(a), id(a[0]), id(a[1]))\n\ndef func(aa):\n    aa[0] = 1\n\nfunc(a)\n\nprint(id(0))\nprint(id(a), id(a[0]), id(a[1]))",
      "metadata": {
        "cell_id": "f9e104682a0d47bbab0a758bd14901db",
        "deepnote_cell_type": "code",
        "deepnote_to_be_reexecuted": false,
        "execution_millis": 5,
        "execution_start": 1683961670436,
        "source_hash": "49a6e1ff",
        "trusted": true
      },
      "outputs": [
        {
          "name": "stdout",
          "output_type": "stream",
          "text": "3250148\n32220328 3250148 3250164\n3250148\n32220328 3250164 3250164\n"
        }
      ],
      "execution_count": 69
    },
    {
      "cell_type": "code",
      "source": "# lambda\n\ndef rohan(a, b):\n    return a * b\n    \n\nrohan1 = lambda a, b: a * b\n\n\nrohan(1, 2), rohan1(1, 2)",
      "metadata": {
        "cell_id": "4ea943f560b1449e84204bd513a0523e",
        "deepnote_cell_type": "code",
        "deepnote_to_be_reexecuted": false,
        "execution_millis": 14,
        "execution_start": 1683962159255,
        "source_hash": "b93695fa"
      },
      "outputs": [
        {
          "data": {
            "text/plain": [
              "(2, 2)"
            ]
          },
          "execution_count": 143,
          "metadata": {},
          "output_type": "execute_result"
        }
      ],
      "execution_count": 143
    },
    {
      "cell_type": "code",
      "source": "i = 0 \n\nwhile i < 5:\n    print(i)\n    i = i + 1\n    print(id(i))",
      "metadata": {
        "cell_id": "bf2d1095ca4345b78f5d65559d9895da",
        "deepnote_cell_type": "code",
        "deepnote_to_be_reexecuted": false,
        "execution_millis": 14,
        "execution_start": 1683962228081,
        "source_hash": "6cf1000"
      },
      "outputs": [
        {
          "name": "stdout",
          "output_type": "stream",
          "text": "0\n,140334600489264\n,1\n,140334600489296\n,2\n,140334600489328\n,3\n,140334600489360\n,4\n,140334600489392\n"
        }
      ],
      "execution_count": 144
    },
    {
      "cell_type": "code",
      "source": "while True:\n    print(i)\n    break",
      "metadata": {
        "cell_id": "7abcde2e8ae9450d81a863e04ea0cf69",
        "deepnote_cell_type": "code",
        "deepnote_to_be_reexecuted": false,
        "execution_millis": 9,
        "execution_start": 1683962301659,
        "source_hash": "6ce756fc"
      },
      "outputs": [
        {
          "name": "stdout",
          "output_type": "stream",
          "text": "5\n"
        }
      ],
      "execution_count": 145
    },
    {
      "cell_type": "code",
      "source": "l = [\"rohan\", \"mohan\", \"johan\"]\n\nvisitor = \"lohan\"\nfound = False\nidx = 0\n\nwhile idx < len(l):\n    if l[idx] == visitor:\n        found = True\n        break\n    idx += 1 # idx = idx + 1\n\nif not found:\n    l.append(visitor)",
      "metadata": {
        "cell_id": "23e54688298a4d1a87ce2571c297dbee",
        "deepnote_cell_type": "code",
        "deepnote_to_be_reexecuted": false,
        "execution_millis": 13,
        "execution_start": 1683962636958,
        "source_hash": "83bc0a13"
      },
      "outputs": [
        {
          "name": "stdout",
          "output_type": "stream",
          "text": "['rohan', 'mohan', 'johan', 'lohan'] 12\n"
        }
      ],
      "execution_count": 149
    },
    {
      "cell_type": "code",
      "source": "l = [\"rohan\", \"sohan\", \"mohan\"]\n\nvisitor = \"mohan\"\n\n\nidx = 0\n\nwhile idx < len(l):\n    if l[idx] == visitor:\n        print(\" I was here\")\n        break\n    idx += 1\nelse: # else is executed if while loop terminated \"without\" hitting the break\n    print(\" I was here in the else\")\n    l.append(visitor)\n\nprint(l)",
      "metadata": {
        "cell_id": "5eb1cdb26e8e4b85bdc31700c88f7b50",
        "deepnote_cell_type": "code",
        "deepnote_to_be_reexecuted": false,
        "execution_millis": 3,
        "execution_start": 1683962792670,
        "source_hash": "fbb509a2"
      },
      "outputs": [
        {
          "name": "stdout",
          "output_type": "stream",
          "text": " I was here\n,['rohan', 'sohan', 'mohan']\n"
        }
      ],
      "execution_count": 151
    },
    {
      "cell_type": "code",
      "source": "a = 10\nb = 0\n\na / b",
      "metadata": {
        "cell_id": "ed267bfa25514375b1d2a8388b161c7d",
        "deepnote_cell_type": "code",
        "deepnote_to_be_reexecuted": false,
        "execution_millis": 9,
        "execution_start": 1683962818148,
        "source_hash": "4587986e"
      },
      "outputs": [
        {
          "ename": "ZeroDivisionError",
          "evalue": "division by zero",
          "output_type": "error",
          "traceback": [
            "\u001b[0;31m---------------------------------------------------------------------------\u001b[0m",
            "\u001b[0;31mZeroDivisionError\u001b[0m                         Traceback (most recent call last)",
            "Cell \u001b[0;32mIn [152], line 4\u001b[0m\n\u001b[1;32m      1\u001b[0m a \u001b[38;5;241m=\u001b[39m \u001b[38;5;241m10\u001b[39m\n\u001b[1;32m      2\u001b[0m b \u001b[38;5;241m=\u001b[39m \u001b[38;5;241m0\u001b[39m\n\u001b[0;32m----> 4\u001b[0m \u001b[43ma\u001b[49m\u001b[43m \u001b[49m\u001b[38;5;241;43m/\u001b[39;49m\u001b[43m \u001b[49m\u001b[43mb\u001b[49m\n",
            "\u001b[0;31mZeroDivisionError\u001b[0m: division by zero"
          ]
        }
      ],
      "execution_count": 152
    },
    {
      "cell_type": "code",
      "source": "a = 10\nb = 10\n\ntry:\n    a / b\nexcept ZeroDivisionError:\n    print(\"b was 0 dude!\")\nfinally:\n    print(\"I will always run doesn't matter what you do\")",
      "metadata": {
        "cell_id": "5b5345ca979741448f3a0160607e8892",
        "deepnote_cell_type": "code",
        "deepnote_to_be_reexecuted": false,
        "execution_millis": 3,
        "execution_start": 1683962903080,
        "source_hash": "4788beec"
      },
      "outputs": [
        {
          "name": "stdout",
          "output_type": "stream",
          "text": "I will always run doesn't matter what you do\n"
        }
      ],
      "execution_count": 154
    },
    {
      "cell_type": "code",
      "source": "a = 0\nb = 2\n\nwhile a < 3:\n    print(\"____________________\")\n    a += 1 # a = a + 1\n    b -= 1\n    try:\n        res = a / b\n    except ZeroDivisionError:\n        print(f'a = {a}, b = {b} - division by 0 ZDE Step')\n        res = 0\n        continue\n    finally:\n        print(f'a = {a}, b = {b} - Finally Step')\n    print(f'a = {a}, b = {b} - main loop')\n\n",
      "metadata": {
        "cell_id": "3b2059ba1afa4da3ace0d470fd49b74b",
        "deepnote_cell_type": "code",
        "deepnote_to_be_reexecuted": false,
        "execution_millis": 6,
        "execution_start": 1683963038102,
        "source_hash": "f64b98f"
      },
      "outputs": [
        {
          "name": "stdout",
          "output_type": "stream",
          "text": "____________________\n,a = 1, b = 1 - Finally Step\n,a = 1, b = 1 - main loop\n,____________________\n,a = 2, b = 0 - division by 0 ZDE Step\n,a = 2, b = 0 - Finally Step\n,____________________\n,a = 3, b = -1 - Finally Step\n,a = 3, b = -1 - main loop\n"
        }
      ],
      "execution_count": 156
    },
    {
      "cell_type": "code",
      "source": "# FOR\nl = [1, 2, 3]\nword = \"rohan\"\nt = (1, 2, 3, 4)\nr = range(10)\n\nKK = r\nfor x in KK:\n    print(x)",
      "metadata": {
        "cell_id": "61a9621c139148e0a52030b59e0575bc",
        "deepnote_cell_type": "code",
        "deepnote_to_be_reexecuted": false,
        "execution_millis": 6,
        "execution_start": 1683963246514,
        "source_hash": "8a255af3"
      },
      "outputs": [
        {
          "name": "stdout",
          "output_type": "stream",
          "text": "0\n,1\n,2\n,3\n,4\n,5\n,6\n,7\n,8\n,9\n"
        }
      ],
      "execution_count": 163
    },
    {
      "cell_type": "code",
      "source": "for i in 45:\n    print(i)",
      "metadata": {
        "cell_id": "1b84cdb50bb046bca62600f7eed1a847",
        "deepnote_cell_type": "code",
        "deepnote_to_be_reexecuted": false,
        "execution_millis": 12,
        "execution_start": 1683963259300,
        "source_hash": "ecba4b29"
      },
      "outputs": [
        {
          "ename": "TypeError",
          "evalue": "'int' object is not iterable",
          "output_type": "error",
          "traceback": [
            "\u001b[0;31m---------------------------------------------------------------------------\u001b[0m",
            "\u001b[0;31mTypeError\u001b[0m                                 Traceback (most recent call last)",
            "Cell \u001b[0;32mIn [164], line 1\u001b[0m\n\u001b[0;32m----> 1\u001b[0m \u001b[38;5;28;01mfor\u001b[39;00m i \u001b[38;5;129;01min\u001b[39;00m \u001b[38;5;241m45\u001b[39m:\n\u001b[1;32m      2\u001b[0m     \u001b[38;5;28mprint\u001b[39m(i)\n",
            "\u001b[0;31mTypeError\u001b[0m: 'int' object is not iterable"
          ]
        }
      ],
      "execution_count": 164
    },
    {
      "cell_type": "code",
      "source": "list_of_students = [\"rohan\", \"mohan\", \"sohan\"]\n\nfor student in list_of_students:\n    print(student)",
      "metadata": {
        "cell_id": "5258731b69d0495abbf35b45ceaf60e1",
        "deepnote_cell_type": "code",
        "deepnote_to_be_reexecuted": false,
        "execution_millis": 7,
        "execution_start": 1683963299796,
        "source_hash": "4e8f8c59",
        "trusted": true
      },
      "outputs": [
        {
          "name": "stdout",
          "output_type": "stream",
          "text": "rohan\nmohan\nsohan\n"
        }
      ],
      "execution_count": 77
    },
    {
      "cell_type": "code",
      "source": "for num, student in enumerate(list_of_students):\n    print(f\"{student} at {num} location\")",
      "metadata": {
        "cell_id": "a2dc42a883bf4be498e1570f000062a9",
        "deepnote_cell_type": "code",
        "deepnote_to_be_reexecuted": false,
        "execution_millis": 16,
        "execution_start": 1683963352031,
        "source_hash": "2f8872e0",
        "trusted": true
      },
      "outputs": [
        {
          "name": "stdout",
          "output_type": "stream",
          "text": "rohan at 0 location\nmohan at 1 location\nsohan at 2 location\n"
        }
      ],
      "execution_count": 78
    },
    {
      "cell_type": "code",
      "source": "class Rectangle:\n    def __init__(self, w, h):\n        self.widht = w\n        self.height = h\n        print(id(self))\n\nr1 = Rectangle(3, 4)\nr2 = Rectangle(30, 40)\n\nr1.widht, r2.height",
      "metadata": {
        "cell_id": "5fe8b8d51e71484584526004b5befad7",
        "deepnote_cell_type": "code",
        "deepnote_to_be_reexecuted": false,
        "execution_millis": 6,
        "execution_start": 1683963683301,
        "source_hash": "4da69c3d",
        "trusted": true
      },
      "outputs": [
        {
          "name": "stdout",
          "output_type": "stream",
          "text": "37903448\n37901104\n"
        },
        {
          "execution_count": 79,
          "output_type": "execute_result",
          "data": {
            "text/plain": "(3, 40)"
          },
          "metadata": {}
        }
      ],
      "execution_count": 79
    },
    {
      "cell_type": "code",
      "source": "class Rectangle:\n    def __init__(rohan, width, height):\n        rohan.height = height\n        rohan.width = width\n\nr1 = Rectangle(100, 200)\nr2 = Rectangle(100, 200)\nr1.width, r2.width",
      "metadata": {
        "cell_id": "5b374b6a58784ba0a0c079c4432fdc8e",
        "deepnote_cell_type": "code",
        "deepnote_to_be_reexecuted": false,
        "execution_millis": 4,
        "execution_start": 1683963736811,
        "source_hash": "d39b9da8",
        "trusted": true
      },
      "outputs": [
        {
          "execution_count": 80,
          "output_type": "execute_result",
          "data": {
            "text/plain": "(100, 100)"
          },
          "metadata": {}
        }
      ],
      "execution_count": 80
    },
    {
      "cell_type": "code",
      "source": "def my1():\n    b = 45\n    print(id(b))\n\ndef my2():\n    b = 44\n    print(id(b))\n\nmy1(), my2()",
      "metadata": {
        "cell_id": "ec9804d9980e4acfb1e2cc8ddc17c612",
        "deepnote_cell_type": "code",
        "deepnote_to_be_reexecuted": false,
        "execution_millis": 7,
        "execution_start": 1683963776627,
        "source_hash": "11a4432a"
      },
      "outputs": [
        {
          "name": "stdout",
          "output_type": "stream",
          "text": "140334600490672\n,140334600490640\n"
        },
        {
          "data": {
            "text/plain": [
              "(None, None)"
            ]
          },
          "execution_count": 177,
          "metadata": {},
          "output_type": "execute_result"
        }
      ],
      "execution_count": 177
    },
    {
      "cell_type": "code",
      "source": "class Rectangle:\n    def __init__(rohan, width, height):\n        rohan.height = height\n        rohan.width = width\n\nr1 = Rectangle(100, 200)\nr2 = Rectangle(100, 200)\nr1.width, r2.width",
      "metadata": {
        "cell_id": "c14c6f4e01ee45f78145db373907cf39",
        "deepnote_cell_type": "code",
        "deepnote_to_be_reexecuted": false,
        "execution_millis": 1,
        "execution_start": 1683963796303,
        "source_hash": "d39b9da8"
      },
      "outputs": [
        {
          "data": {
            "text/plain": [
              "(100, 100)"
            ]
          },
          "execution_count": 178,
          "metadata": {},
          "output_type": "execute_result"
        }
      ],
      "execution_count": 178
    },
    {
      "cell_type": "code",
      "source": "id(r1.width), id(r2.width)",
      "metadata": {
        "cell_id": "82fdb9e38443451092f2d05e54b7ff4e",
        "deepnote_cell_type": "code",
        "deepnote_to_be_reexecuted": false,
        "execution_millis": 8,
        "execution_start": 1683963811797,
        "source_hash": "91b0ae59"
      },
      "outputs": [
        {
          "data": {
            "text/plain": [
              "(140334600680912, 140334600680912)"
            ]
          },
          "execution_count": 179,
          "metadata": {},
          "output_type": "execute_result"
        }
      ],
      "execution_count": 179
    },
    {
      "cell_type": "code",
      "source": "class Rectangle():\n    def __init__ (self, width, height):\n        self.width = width\n        self.height = height\n\n    def area(self):\n        return self.width * self.height\n\n    def perimeter(self):\n        return 2 *  ( self.width + self.height)",
      "metadata": {
        "cell_id": "b44f9e80ec904574be9a2760f4a8e0d4",
        "deepnote_cell_type": "code",
        "deepnote_to_be_reexecuted": false,
        "execution_millis": 1,
        "execution_start": 1683963853155,
        "source_hash": "395d5eb7"
      },
      "outputs": [],
      "execution_count": 180
    },
    {
      "cell_type": "code",
      "source": "r1 = Rectangle(10, 20)\nr1.area()",
      "metadata": {
        "cell_id": "50fb51fa48eb4024abaf74fe3f360e53",
        "deepnote_cell_type": "code",
        "deepnote_to_be_reexecuted": false,
        "execution_millis": 4,
        "execution_start": 1683963863697,
        "source_hash": "c724bd56"
      },
      "outputs": [
        {
          "data": {
            "text/plain": [
              "200"
            ]
          },
          "execution_count": 181,
          "metadata": {},
          "output_type": "execute_result"
        }
      ],
      "execution_count": 181
    },
    {
      "cell_type": "code",
      "source": "help(Rectangle)",
      "metadata": {
        "cell_id": "b05cdd99e57f41f8b3d866df3e625c54",
        "deepnote_cell_type": "code",
        "deepnote_to_be_reexecuted": false,
        "execution_millis": 11,
        "execution_start": 1683963875487,
        "source_hash": "53a968cc"
      },
      "outputs": [
        {
          "name": "stdout",
          "output_type": "stream",
          "text": "Help on class Rectangle in module __main__:\n,\n,class Rectangle(builtins.object)\n, |  Rectangle(width, height)\n, |  \n, |  Methods defined here:\n, |  \n, |  __init__(self, width, height)\n, |      Initialize self.  See help(type(self)) for accurate signature.\n, |  \n, |  area(self)\n, |  \n, |  perimeter(self)\n, |  \n, |  ----------------------------------------------------------------------\n, |  Data descriptors defined here:\n, |  \n, |  __dict__\n, |      dictionary for instance variables (if defined)\n, |  \n, |  __weakref__\n, |      list of weak references to the object (if defined)\n,\n"
        }
      ],
      "execution_count": 182
    },
    {
      "cell_type": "code",
      "source": "r1",
      "metadata": {
        "cell_id": "8ad6f3b7bc384567b1fe5e34fd97a2f1",
        "deepnote_cell_type": "code",
        "deepnote_to_be_reexecuted": false,
        "execution_millis": 1,
        "execution_start": 1683963983734,
        "source_hash": "d00caaf0"
      },
      "outputs": [
        {
          "data": {
            "text/plain": [
              "<__main__.Rectangle at 0x7fa1f253e520>"
            ]
          },
          "execution_count": 183,
          "metadata": {},
          "output_type": "execute_result"
        }
      ],
      "execution_count": 183
    },
    {
      "cell_type": "code",
      "source": "class Rectangle:\n    def __init__ (self, width, height):\n        self.width = width\n        self.height = height\n\n    def area(self):\n        return self.width * self.height\n\n    def perimeter(self):\n        return 2 *  ( self.width + self.height)\n\n    def __str__(self):\n        return \"This is a rectangle stored at: \" + str(id(self))\n\nr1 = Rectangle(10, 20)\nr1.__str__()",
      "metadata": {
        "cell_id": "2c0ea38bfb184b7fb1bf18ccf6ea2bbf",
        "deepnote_cell_type": "code",
        "deepnote_to_be_reexecuted": false,
        "execution_millis": 2,
        "execution_start": 1683963989739,
        "source_hash": "792f9199"
      },
      "outputs": [
        {
          "data": {
            "text/plain": [
              "'This is a rectangle stored at: 140333533446208'"
            ]
          },
          "execution_count": 184,
          "metadata": {},
          "output_type": "execute_result"
        }
      ],
      "execution_count": 184
    },
    {
      "cell_type": "code",
      "source": "dir(r1)",
      "metadata": {
        "cell_id": "b62cda6436234bb8aa92d506826a1852",
        "deepnote_cell_type": "code",
        "deepnote_to_be_reexecuted": false,
        "execution_millis": 7,
        "execution_start": 1683964031532,
        "source_hash": "3e901131"
      },
      "outputs": [
        {
          "data": {
            "text/plain": [
              "['__class__',\n",
              " '__delattr__',\n",
              " '__dict__',\n",
              " '__dir__',\n",
              " '__doc__',\n",
              " '__eq__',\n",
              " '__format__',\n",
              " '__ge__',\n",
              " '__getattribute__',\n",
              " '__gt__',\n",
              " '__hash__',\n",
              " '__init__',\n",
              " '__init_subclass__',\n",
              " '__le__',\n",
              " '__lt__',\n",
              " '__module__',\n",
              " '__ne__',\n",
              " '__new__',\n",
              " '__reduce__',\n",
              " '__reduce_ex__',\n",
              " '__repr__',\n",
              " '__setattr__',\n",
              " '__sizeof__',\n",
              " '__str__',\n",
              " '__subclasshook__',\n",
              " '__weakref__',\n",
              " 'area',\n",
              " 'height',\n",
              " 'perimeter',\n",
              " 'width']"
            ]
          },
          "execution_count": 188,
          "metadata": {},
          "output_type": "execute_result"
        }
      ],
      "execution_count": 188
    },
    {
      "cell_type": "code",
      "source": "class Rectangle:\n    def __init__ (self, width, height):\n        self.width = width\n        self.height = height\n\n    def area(self):\n        return self.width * self.height\n\n    def perimeter(self):\n        return 2 *  ( self.width + self.height)\n\n    def __repr__(self):\n        return \"This is a rectangle stored at: \" + str(id(self))\n\nr1 = Rectangle(10, 20)\nr1",
      "metadata": {
        "cell_id": "6fdc7e4537704f849ed9924444a0114e",
        "deepnote_cell_type": "code",
        "deepnote_to_be_reexecuted": false,
        "execution_millis": 9,
        "execution_start": 1683964087576,
        "source_hash": "fb4db9ec"
      },
      "outputs": [
        {
          "data": {
            "text/plain": [
              "This is a rectangle stored at: 140333533326256"
            ]
          },
          "execution_count": 190,
          "metadata": {},
          "output_type": "execute_result"
        }
      ],
      "execution_count": 190
    },
    {
      "cell_type": "code",
      "source": "class Rectangle:\n    def __init__ (self, width, height):\n        self.width = width\n        self.height = height\n\n    def area(self):\n        return self.width * self.height\n\n    def perimeter(self):\n        return 2 *  ( self.width + self.height)\n\n    def __str__(self):\n        return \"This is rectangle stored: \" + str(id(self))\n\n    def __eq__(self, other):\n        print(f'self={self}, other={other}')\n        if isinstance(other, Rectangle):\n            return (self.width, self.height) == (other.width, other.height)\n        else:\n            return False\nr1 = Rectangle(10, 20)\nr2 = Rectangle(1, 2)\n\nr1 == r2, r2 < r1",
      "metadata": {
        "cell_id": "203ec3b21de7409b898603ec692916d3",
        "deepnote_cell_type": "code",
        "deepnote_to_be_reexecuted": false,
        "execution_millis": 70,
        "execution_start": 1683964247165,
        "source_hash": "aa628b0b"
      },
      "outputs": [
        {
          "name": "stdout",
          "output_type": "stream",
          "text": "self=This is rectangle stored: 140333532809968, other=This is rectangle stored: 140333532810496\n"
        },
        {
          "ename": "TypeError",
          "evalue": "'<' not supported between instances of 'Rectangle' and 'Rectangle'",
          "output_type": "error",
          "traceback": [
            "\u001b[0;31m---------------------------------------------------------------------------\u001b[0m",
            "\u001b[0;31mTypeError\u001b[0m                                 Traceback (most recent call last)",
            "Cell \u001b[0;32mIn [192], line 24\u001b[0m\n\u001b[1;32m     21\u001b[0m r1 \u001b[38;5;241m=\u001b[39m Rectangle(\u001b[38;5;241m10\u001b[39m, \u001b[38;5;241m20\u001b[39m)\n\u001b[1;32m     22\u001b[0m r2 \u001b[38;5;241m=\u001b[39m Rectangle(\u001b[38;5;241m1\u001b[39m, \u001b[38;5;241m2\u001b[39m)\n\u001b[0;32m---> 24\u001b[0m r1 \u001b[38;5;241m==\u001b[39m r2, \u001b[43mr2\u001b[49m\u001b[43m \u001b[49m\u001b[38;5;241;43m<\u001b[39;49m\u001b[43m \u001b[49m\u001b[43mr1\u001b[49m\n",
            "\u001b[0;31mTypeError\u001b[0m: '<' not supported between instances of 'Rectangle' and 'Rectangle'"
          ]
        }
      ],
      "execution_count": 192
    },
    {
      "cell_type": "code",
      "source": "class Rectangle:\n    def __init__(self, width, height):\n        self.width = width\n        self.height = height\n        \n    def area(self):\n        return self.width * self.height\n    \n    def perimeter(self):\n        return 2 * (self.width + self.height)\n    \n    def __str__(self):\n        return 'Rectangle (width={0}, height={1})'.format(self.width, self.height)\n    \n    def __repr__(self):\n        return 'Rectangle({0}, {1})'.format(self.width, self.height)\n    \n    def __eq__(self, other):\n        if isinstance(other, Rectangle):\n            return (self.width, self.height) == (other.width, other.height)\n        else:\n            return False\n    \n    def __lt__(self, other):\n        if isinstance(other, Rectangle):\n            return self.area() < other.area()\n        else:\n            return NotImplemented\n\nr1 = Rectangle(100, 200)\nr2 = Rectangle(10, 20)\nr1 < r2",
      "metadata": {
        "cell_id": "cfdb644fc9af46358d377b79aee43739",
        "deepnote_cell_type": "code",
        "deepnote_to_be_reexecuted": false,
        "execution_millis": 11,
        "execution_start": 1683964264493,
        "source_hash": "eedcaca1"
      },
      "outputs": [
        {
          "data": {
            "text/plain": [
              "False"
            ]
          },
          "execution_count": 193,
          "metadata": {},
          "output_type": "execute_result"
        }
      ],
      "execution_count": 193
    },
    {
      "cell_type": "code",
      "source": "dataSet = [\"cat\", \"book\", \"dog\", \"elephant\", \"table\"]\nlabel = [1, 0, 1, 1, 0]\n\nclass UseLess:\n    def __init__(self, dataSet, label):\n        self.dataSet = dataSet\n        self.label = label\n\n    def __len__(self):\n        return len(self.dataSet)\n\n    def my_length(self):\n        return len(self.dataSet)\n\nu = UseLess(dataSet, label)\nlen(u)",
      "metadata": {
        "cell_id": "a367fe9e34914ba5bdf59ca625eb6ae9",
        "deepnote_cell_type": "code",
        "deepnote_to_be_reexecuted": false,
        "execution_millis": 3,
        "execution_start": 1683964596412,
        "source_hash": "33d3132"
      },
      "outputs": [
        {
          "data": {
            "text/plain": [
              "5"
            ]
          },
          "execution_count": 197,
          "metadata": {},
          "output_type": "execute_result"
        }
      ],
      "execution_count": 197
    },
    {
      "cell_type": "code",
      "source": "class UseLess2:\n    def __init__(self, listed):\n        self.listed = listed\n        \n    def __getitem__(self, index):\n        return listed[index]\n\nlisted = [1, \"cat\", 3]\nu2 = UseLess2(listed)\nu2.__getitem__(1)",
      "metadata": {
        "cell_id": "ff9115c7600e49f697c645cb4c72cd66",
        "deepnote_cell_type": "code",
        "deepnote_to_be_reexecuted": false,
        "execution_millis": 32,
        "execution_start": 1683964650497,
        "source_hash": "41ee7882"
      },
      "outputs": [
        {
          "data": {
            "text/plain": [
              "'cat'"
            ]
          },
          "execution_count": 198,
          "metadata": {},
          "output_type": "execute_result"
        }
      ],
      "execution_count": 198
    },
    {
      "cell_type": "code",
      "source": "dataSet = [\"cat\", \"book\", \"dog\", \"elephant\", \"table\"]\nlabel = [1, 0, 1, 1, 0]\n\nclass UseLess:\n    def __init__(self, dataSet, label):\n        self.dataSet = dataSet\n        self.label = label\n\n    def __len__(self):\n        return len(self.dataSet)\n\n    def __getitem__(self, index):\n        return self.dataSet[index], self.label[index]\n\nu = UseLess(dataSet, label)",
      "metadata": {
        "cell_id": "663b700812ac4add834023f0862d8376",
        "deepnote_cell_type": "code",
        "deepnote_to_be_reexecuted": false,
        "execution_millis": 5,
        "execution_start": 1683964674716,
        "source_hash": "7ffa2cb0"
      },
      "outputs": [],
      "execution_count": 199
    },
    {
      "cell_type": "code",
      "source": "for d, l in u:\n    print(d, l)",
      "metadata": {
        "cell_id": "de330c31391f45d2b9028dbac8bab8d4",
        "deepnote_cell_type": "code",
        "deepnote_to_be_reexecuted": false,
        "execution_millis": 27,
        "execution_start": 1683964686863,
        "source_hash": "56a68cee"
      },
      "outputs": [
        {
          "name": "stdout",
          "output_type": "stream",
          "text": "cat 1\n,book 0\n,dog 1\n,elephant 1\n,table 0\n"
        }
      ],
      "execution_count": 200
    },
    {
      "cell_type": "code",
      "source": "u[0]",
      "metadata": {
        "cell_id": "ef18c24ee5bd470cbe11e4d41f00b18c",
        "deepnote_cell_type": "code",
        "deepnote_to_be_reexecuted": false,
        "execution_millis": 8,
        "execution_start": 1683964766895,
        "source_hash": "21890b2f"
      },
      "outputs": [
        {
          "data": {
            "text/plain": [
              "('cat', 1)"
            ]
          },
          "execution_count": 201,
          "metadata": {},
          "output_type": "execute_result"
        }
      ],
      "execution_count": 201
    },
    {
      "cell_type": "code",
      "source": "import torch\nfrom torch.utils.data import Dataset, DataLoader\n\nclass MyDataset(Dataset):\n  def __init__(self, data, labels):\n    self.data = data\n    self.labels = labels\n\n  def __len__(self):\n    return len(self.data)\n\n  def __getitem__(self, index):\n    return self.data[index], self.labels[index]\n\ndata = MyDataset(data, labels)\n\ndataloader = DataLoader(data, batch_size=16, shuffle=True)\n\nfor x, y in dataloader:\n  # Do something with the data here\n  pass",
      "metadata": {
        "cell_id": "e9e08a8412df4f81b5cc02165c9791ac",
        "deepnote_cell_type": "code",
        "deepnote_to_be_reexecuted": false,
        "execution_millis": 7260,
        "execution_start": 1683964841807,
        "source_hash": "ab9eeb1"
      },
      "outputs": [
        {
          "name": "stderr",
          "output_type": "stream",
          "text": "/shared-libs/python3.9/py/lib/python3.9/site-packages/tqdm/auto.py:22: TqdmWarning: IProgress not found. Please update jupyter and ipywidgets. See https://ipywidgets.readthedocs.io/en/stable/user_install.html\n,  from .autonotebook import tqdm as notebook_tqdm\n"
        },
        {
          "ename": "NameError",
          "evalue": "name 'data' is not defined",
          "output_type": "error",
          "traceback": [
            "\u001b[0;31m---------------------------------------------------------------------------\u001b[0m",
            "\u001b[0;31mNameError\u001b[0m                                 Traceback (most recent call last)",
            "Cell \u001b[0;32mIn [202], line 15\u001b[0m\n\u001b[1;32m     12\u001b[0m   \u001b[38;5;28;01mdef\u001b[39;00m \u001b[38;5;21m__getitem__\u001b[39m(\u001b[38;5;28mself\u001b[39m, index):\n\u001b[1;32m     13\u001b[0m     \u001b[38;5;28;01mreturn\u001b[39;00m \u001b[38;5;28mself\u001b[39m\u001b[38;5;241m.\u001b[39mdata[index], \u001b[38;5;28mself\u001b[39m\u001b[38;5;241m.\u001b[39mlabels[index]\n\u001b[0;32m---> 15\u001b[0m data \u001b[38;5;241m=\u001b[39m MyDataset(\u001b[43mdata\u001b[49m, labels)\n\u001b[1;32m     17\u001b[0m dataloader \u001b[38;5;241m=\u001b[39m DataLoader(data, batch_size\u001b[38;5;241m=\u001b[39m\u001b[38;5;241m16\u001b[39m, shuffle\u001b[38;5;241m=\u001b[39m\u001b[38;5;28;01mTrue\u001b[39;00m)\n\u001b[1;32m     19\u001b[0m \u001b[38;5;28;01mfor\u001b[39;00m x, y \u001b[38;5;129;01min\u001b[39;00m dataloader:\n\u001b[1;32m     20\u001b[0m   \u001b[38;5;66;03m# Do something with the data here\u001b[39;00m\n",
            "\u001b[0;31mNameError\u001b[0m: name 'data' is not defined"
          ]
        }
      ],
      "execution_count": 202
    },
    {
      "cell_type": "code",
      "source": "def handle_exceptions():\n    try:\n        print(\"Choose an operation:\")\n        print(\"1. Divide by zero\")\n        print(\"2. Access undefined variable\")\n        print(\"3. Perform type error\")\n        print(\"4. Try value error\")\n        choice = int(input(\"Enter your choice (1-4): \"))\n\n        if choice == 1:\n            # Divide by zero\n            result = 1 / 0\n\n        elif choice == 2:\n            # Access undefined variable\n            print(undeclared_variable)\n\n        elif choice == 3:\n            # Type error (add int to string)\n            result = 5 + \"string\"\n\n        elif choice == 4:\n            # Value error (convert invalid string to int)\n            result = int(\"invalid\")\n\n        else:\n            print(\"Invalid choice!\")\n\n    except ZeroDivisionError:\n        print(\"Oops! You tried to divide by zero. That's not allowed!\")\n\n    except NameError:\n        print(\"Uh-oh! You tried to use a variable that doesn't exist!\")\n\n    except TypeError:\n        print(\"Yikes! You can't mix data types like that!\")\n\n    except ValueError:\n        print(\"Oh no! That value isn't right for this operation!\")\n\n    except Exception as e:\n        print(f\"Something unexpected happened: {e}\")\n\n# Run the function\nhandle_exceptions()\n",
      "metadata": {
        "cell_id": "d9407ec4c16349e1a9d8cb054fef74c8",
        "deepnote_cell_type": "code"
      },
      "outputs": [
        {
          "name": "stdout",
          "output_type": "stream",
          "text": "Choose an operation:\n,1. Divide by zero\n,2. Access undefined variable\n,3. Perform type error\n,4. Try value error\n,Oops! You tried to divide by zero. That's not allowed!\n"
        }
      ],
      "execution_count": 1
    },
    {
      "cell_type": "code",
      "source": "from functools import wraps\n\nPASSWORD = \"openAIrocks\"\n\ndef password_protect(func):\n    @wraps(func)\n    def wrapper(*args, **kwargs):\n        password = input(\"Enter the password to proceed: \")\n        if password == PASSWORD:\n            print(\"Password correct! Access granted.\")\n            return func(*args, **kwargs)\n        else:\n            print(\"Incorrect password! Access denied.\")\n    return wrapper\n\n@password_protect\ndef secret_function():\n    print(\"This is a secret function that only authorized users can see!\")\n\n# Test the password protected function\nsecret_function()\n",
      "metadata": {},
      "outputs": [],
      "execution_count": null
    },
    {
      "cell_type": "code",
      "source": "import time\nfrom functools import wraps\n\ndef timer(func):\n    @wraps(func)\n    def wrapper(*args, **kwargs):\n        start_time = time.time()\n        result = func(*args, **kwargs)\n        end_time = time.time()\n        execution_time = end_time - start_time\n        print(f\"Function '{func.__name__}' executed in {execution_time:.4f} seconds\")\n        return result\n    return wrapper\n\n@timer\ndef slow_function():\n    print(\"Starting slow function...\")\n    time.sleep(2)  # Simulate a time-consuming operation\n    print(\"Slow function finished!\")\n\n# Test the timer decorator\nslow_function()\n",
      "metadata": {},
      "outputs": [],
      "execution_count": null
    },
    {
      "cell_type": "code",
      "source": "import datetime\nimport getpass\nfrom functools import wraps\n\ndef detailed_logger(func):\n    @wraps(func)\n    def wrapper(*args, **kwargs):\n        user = getpass.getuser()  # Get the current user's name\n        current_time = datetime.datetime.now()\n        print(f\"User: {user}\")\n        print(f\"Date & Time: {current_time.strftime('%Y-%m-%d %H:%M:%S')}\")\n        \n        start_time = time.time()\n        result = func(*args, **kwargs)\n        end_time = time.time()\n        execution_time = end_time - start_time\n\n        print(f\"Function '{func.__name__}' executed in {execution_time:.4f} seconds\")\n        return result\n    return wrapper\n\n@detailed_logger\ndef logged_function():\n    print(\"This function is being logged with details.\")\n\n# Test the logging decorator\nlogged_function()\n",
      "metadata": {},
      "outputs": [],
      "execution_count": null
    },
    {
      "cell_type": "code",
      "source": "from functools import wraps\n\ndef check_input_type(func):\n    @wraps(func)\n    def wrapper(input_value):\n        if isinstance(input_value, int):\n            print(\"Detected integer input.\")\n            return handle_integer(input_value)\n        elif isinstance(input_value, str):\n            print(\"Detected string input.\")\n            return handle_string(input_value)\n        else:\n            print(\"Unsupported input type!\")\n    return wrapper\n\ndef handle_integer(value):\n    print(f\"Handling integer: {value}\")\n    return value * 2\n\ndef handle_string(value):\n    print(f\"Handling string: {value}\")\n    return value.upper()\n\n@check_input_type\ndef process_input(input_value):\n    # This function will actually delegate to the appropriate handler\n    pass\n\n# Test the type-checking decorator\nprocess_input(42)\nprocess_input(\"hello world\")\n",
      "metadata": {},
      "outputs": [],
      "execution_count": null
    },
    {
      "cell_type": "code",
      "source": "import time\nimport datetime\nimport getpass\nfrom functools import wraps\n\nPASSWORD = \"openAIrocks\"\n\n### 1. Password Protection Decorator ###\ndef password_protect(func):\n    @wraps(func)\n    def wrapper(*args, **kwargs):\n        password = input(\"Enter the password to proceed: \")\n        if password == PASSWORD:\n            print(\"Password correct! Access granted.\")\n            return func(*args, **kwargs)\n        else:\n            print(\"Incorrect password! Access denied.\")\n    return wrapper\n\n### 2. Timer Decorator ###\ndef timer(func):\n    @wraps(func)\n    def wrapper(*args, **kwargs):\n        start_time = time.time()\n        result = func(*args, **kwargs)\n        end_time = time.time()\n        execution_time = end_time - start_time\n        print(f\"Function '{func.__name__}' executed in {execution_time:.4f} seconds\")\n        return result\n    return wrapper\n\n### 3. Detailed Logger Decorator ###\ndef detailed_logger(func):\n    @wraps(func)\n    def wrapper(*args, **kwargs):\n        user = getpass.getuser()  # Get the current user's name\n        current_time = datetime.datetime.now()\n        print(f\"User: {user}\")\n        print(f\"Date & Time: {current_time.strftime('%Y-%m-%d %H:%M:%S')}\")\n        \n        start_time = time.time()\n        result = func(*args, **kwargs)\n        end_time = time.time()\n        execution_time = end_time - start_time\n\n        print(f\"Function '{func.__name__}' executed in {execution_time:.4f} seconds\")\n        return result\n    return wrapper\n\n### 4. Input Type Checking Decorator ###\ndef check_input_type(func):\n    @wraps(func)\n    def wrapper(input_value):\n        if isinstance(input_value, int):\n            print(\"Detected integer input.\")\n            return handle_integer(input_value)\n        elif isinstance(input_value, str):\n            print(\"Detected string input.\")\n            return handle_string(input_value)\n        else:\n            print(\"Unsupported input type!\")\n    return wrapper\n\ndef handle_integer(value):\n    print(f\"Handling integer: {value}\")\n    return value * 2\n\ndef handle_string(value):\n    print(f\"Handling string: {value}\")\n    return value.upper()\n\n### Apply all 4 decorators to a single function ###\n@password_protect\n@timer\n@detailed_logger\n@check_input_type\ndef process_input(input_value):\n    print(f\"Processing input: {input_value}\")\n\n# Test the function with all decorators applied\nprocess_input(10)       # Test with integer\nprocess_input(\"hello\")  # Test with string\n",
      "metadata": {},
      "outputs": [
        {
          "name": "stdout",
          "output_type": "stream",
          "text": "Incorrect password! Access denied.\n,Password correct! Access granted.\n,User: Rohan\n,Date & Time: 2024-10-17 11:58:49\n,Detected string input.\n,Handling string: hello\n,Function 'process_input' executed in 0.0000 seconds\n,Function 'process_input' executed in 0.0000 seconds\n"
        },
        {
          "data": {
            "text/plain": [
              "'HELLO'"
            ]
          },
          "execution_count": 2,
          "metadata": {},
          "output_type": "execute_result"
        }
      ],
      "execution_count": 2
    }
  ]
}